{
  "nbformat": 4,
  "nbformat_minor": 0,
  "metadata": {
    "colab": {
      "name": "homework8.ipynb",
      "provenance": [],
      "authorship_tag": "ABX9TyPPuFLSgSy3LL1pXkwBXYq0",
      "include_colab_link": true
    },
    "kernelspec": {
      "name": "python3",
      "display_name": "Python 3"
    },
    "language_info": {
      "name": "python"
    }
  },
  "cells": [
    {
      "cell_type": "markdown",
      "metadata": {
        "id": "view-in-github",
        "colab_type": "text"
      },
      "source": [
        "<a href=\"https://colab.research.google.com/github/ZiChengHao/Mat-494/blob/main/homework8.ipynb\" target=\"_parent\"><img src=\"https://colab.research.google.com/assets/colab-badge.svg\" alt=\"Open In Colab\"/></a>"
      ]
    },
    {
      "cell_type": "markdown",
      "metadata": {
        "id": "Ksrbc8F8-poU"
      },
      "source": [
        "3.5 K-means"
      ]
    },
    {
      "cell_type": "code",
      "metadata": {
        "id": "ZhUX1sOW-k-F"
      },
      "source": [
        "# import libraries\n",
        "from numpy import unique\n",
        "from numpy import where\n",
        "from sklearn.datasets import make_classification\n",
        "from sklearn.cluster import KMeans\n",
        "from sklearn.cluster import MiniBatchKMeans\n",
        "import matplotlib.pyplot as plt"
      ],
      "execution_count": 1,
      "outputs": []
    },
    {
      "cell_type": "markdown",
      "metadata": {
        "id": "nJIo4VP1-uZ7"
      },
      "source": [
        "1. K-Means"
      ]
    },
    {
      "cell_type": "code",
      "metadata": {
        "colab": {
          "base_uri": "https://localhost:8080/",
          "height": 265
        },
        "id": "Oq8ySnS_-wD8",
        "outputId": "57c7edd5-f741-4453-91e5-8f714c38753b"
      },
      "source": [
        "# Load the data\n",
        "# \"_\" hold the position of \"y\" but we are not interested in y here,\n",
        "# so we can use \"_\" instead of creating a variable y.\n",
        "X, _ = make_classification(n_samples=1000, n_features=2, \n",
        "                           n_informative=2, n_redundant=0, \n",
        "                           n_clusters_per_class=1, random_state=4)\n",
        "\n",
        "# Using the k-means method\n",
        "model = KMeans(n_clusters=2)\n",
        "model.fit(X)\n",
        "\n",
        "# Assign a cluster to each example.\n",
        "yhat = model.predict(X)\n",
        "\n",
        "# Retrieve a unique cluster.\n",
        "clusters = unique(yhat)\n",
        "\n",
        "# Create a scatter plot for the samples of each cluster.\n",
        "for cluster in clusters:\n",
        "    row_ix = where(yhat == cluster)\n",
        "    plt.scatter(X[row_ix, 0], X[row_ix, 1])\n",
        "    \n",
        "# Draw the scatter plot.\n",
        "plt.show()"
      ],
      "execution_count": 2,
      "outputs": [
        {
          "output_type": "display_data",
          "data": {
            "image/png": "[encoded data removed]",
            "text/plain": [
              "<Figure size 432x288 with 1 Axes>"
            ]
          },
          "metadata": {
            "needs_background": "light"
          }
        }
      ]
    },
    {
      "cell_type": "markdown",
      "metadata": {
        "id": "Ri2hMXoj-yC4"
      },
      "source": [
        "2. Mini-Batch K-Means"
      ]
    },
    {
      "cell_type": "code",
      "metadata": {
        "colab": {
          "base_uri": "https://localhost:8080/",
          "height": 265
        },
        "id": "Pkf0_pVU-zpg",
        "outputId": "6829b732-0221-4ee3-edae-cffa49be2bf4"
      },
      "source": [
        "# Data sources\n",
        "X, _ = make_classification(n_samples=1000, n_features=2, \n",
        "                           n_informative=2, n_redundant=0, \n",
        "                           n_clusters_per_class=1, random_state=4)\n",
        "\n",
        "# Using the mini-batch k-means method\n",
        "model = MiniBatchKMeans(n_clusters=2)\n",
        "model.fit(X)\n",
        "\n",
        "# Assign a cluster to each example.\n",
        "yhat = model.predict(X)\n",
        "\n",
        "# Retrieve a unique cluster.\n",
        "clusters = unique(yhat)\n",
        "\n",
        "# Create a scatter plot for the samples of each cluster.\n",
        "for cluster in clusters:\n",
        "    row_ix = where(yhat == cluster)\n",
        "    plt.scatter(X[row_ix, 0], X[row_ix, 1])\n",
        "    \n",
        "# Draw the scatter plot.\n",
        "plt.show()"
      ],
      "execution_count": 3,
      "outputs": [
        {
          "output_type": "display_data",
          "data": {
            "image/png": "[encoded data removed]",
            "text/plain": [
              "<Figure size 432x288 with 1 Axes>"
            ]
          },
          "metadata": {
            "needs_background": "light"
          }
        }
      ]
    }
  ]
}
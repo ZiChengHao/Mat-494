{
  "nbformat": 4,
  "nbformat_minor": 0,
  "metadata": {
    "colab": {
      "name": "homework5.ipynb",
      "provenance": [],
      "authorship_tag": "ABX9TyOnVMUPA5KNnHuy5guoFMHz",
      "include_colab_link": true
    },
    "kernelspec": {
      "name": "python3",
      "display_name": "Python 3"
    },
    "language_info": {
      "name": "python"
    }
  },
  "cells": [
    {
      "cell_type": "markdown",
      "metadata": {
        "id": "view-in-github",
        "colab_type": "text"
      },
      "source": [
        "<a href=\"https://colab.research.google.com/github/ZiChengHao/Mat-494/blob/main/homework5.ipynb\" target=\"_parent\"><img src=\"https://colab.research.google.com/assets/colab-badge.svg\" alt=\"Open In Colab\"/></a>"
      ]
    },
    {
      "cell_type": "markdown",
      "metadata": {
        "id": "nodTy-ihbWWp"
      },
      "source": [
        "3.3 Unconstrained Optimization\n",
        "Here, we provide some examples of optimization problem.\n",
        "\n",
        "Copyright:\n",
        "**1. Gradient descent for one-dimension**"
      ]
    },
    {
      "cell_type": "code",
      "metadata": {
        "colab": {
          "base_uri": "https://localhost:8080/",
          "height": 265
        },
        "id": "vwuKg4aZbUHr",
        "outputId": "3174eb7c-fea9-45c6-934b-ad8f94ac9bf5"
      },
      "source": [
        "import matplotlib.pyplot as plt\n",
        "import numpy as np\n",
        "import numpy.linalg as npl\n",
        "x = np.linspace(-5,5,100)\n",
        "y = x ** 2 + 1\n",
        "plt.grid()\n",
        "plt.plot(x,y)\n",
        "plt.show()"
      ],
      "execution_count": 1,
      "outputs": [
        {
          "output_type": "display_data",
          "data": {
            "image/png": "[encoded data removed]",
            "text/plain": [
              "<Figure size 432x288 with 1 Axes>"
            ]
          },
          "metadata": {
            "needs_background": "light"
          }
        }
      ]
    },
    {
      "cell_type": "code",
      "metadata": {
        "colab": {
          "base_uri": "https://localhost:8080/"
        },
        "id": "_hRiin_SbjZO",
        "outputId": "457441cb-5d7e-44ab-dcf8-7bd9c69c6fac"
      },
      "source": [
        "def grad_1d(x):\n",
        "    return x * 2\n",
        "\n",
        "def gradient_descent_1d(grad, cur_x=0.1, learning_rate=0.01, precision=0.0001, max_iters=10000):\n",
        "    \"\"\"\n",
        "    :param grad:           The gradient of the objective function\n",
        "    :param cur_x:          The current x value, which can be provided with an initial value as an argument\n",
        "    :param learning_rate:  The learning rate is also equivalent to the set step size\n",
        "    :param precision:      Set the convergence precision\n",
        "    :param max_iters:      maximum number of iterations\n",
        "    :return:               local minimum x*\n",
        "    \"\"\"\n",
        "    for i in range(max_iters):\n",
        "        grad_cur = grad(cur_x)\n",
        "        if abs(grad_cur) < precision:\n",
        "            break  # When the gradient approaches 0, it is regarded as convergent\n",
        "        cur_x = cur_x - grad_cur * learning_rate\n",
        "        print(\"The\", i, \"iteration：x value is \", cur_x)\n",
        "    print(\" local minimum  x =\", cur_x)\n",
        "    return cur_x\n",
        "\n",
        "\n",
        "if __name__ == '__main__':\n",
        "    gradient_descent_1d(grad_1d, cur_x=10, learning_rate=0.2, precision=0.000001, max_iters=10000)"
      ],
      "execution_count": 2,
      "outputs": [
        {
          "output_type": "stream",
          "name": "stdout",
          "text": [
            "The 0 iteration：x value is  6.0\n",
            "The 1 iteration：x value is  3.5999999999999996\n",
            "The 2 iteration：x value is  2.1599999999999997\n",
            "The 3 iteration：x value is  1.2959999999999998\n",
            "The 4 iteration：x value is  0.7775999999999998\n",
            "The 5 iteration：x value is  0.46655999999999986\n",
            "The 6 iteration：x value is  0.2799359999999999\n",
            "The 7 iteration：x value is  0.16796159999999993\n",
            "The 8 iteration：x value is  0.10077695999999996\n",
            "The 9 iteration：x value is  0.06046617599999997\n",
            "The 10 iteration：x value is  0.036279705599999976\n",
            "The 11 iteration：x value is  0.021767823359999987\n",
            "The 12 iteration：x value is  0.013060694015999992\n",
            "The 13 iteration：x value is  0.007836416409599995\n",
            "The 14 iteration：x value is  0.004701849845759997\n",
            "The 15 iteration：x value is  0.002821109907455998\n",
            "The 16 iteration：x value is  0.0016926659444735988\n",
            "The 17 iteration：x value is  0.0010155995666841593\n",
            "The 18 iteration：x value is  0.0006093597400104956\n",
            "The 19 iteration：x value is  0.0003656158440062973\n",
            "The 20 iteration：x value is  0.0002193695064037784\n",
            "The 21 iteration：x value is  0.00013162170384226703\n",
            "The 22 iteration：x value is  7.897302230536021e-05\n",
            "The 23 iteration：x value is  4.7383813383216124e-05\n",
            "The 24 iteration：x value is  2.8430288029929674e-05\n",
            "The 25 iteration：x value is  1.7058172817957805e-05\n",
            "The 26 iteration：x value is  1.0234903690774682e-05\n",
            "The 27 iteration：x value is  6.1409422144648085e-06\n",
            "The 28 iteration：x value is  3.684565328678885e-06\n",
            "The 29 iteration：x value is  2.210739197207331e-06\n",
            "The 30 iteration：x value is  1.3264435183243986e-06\n",
            "The 31 iteration：x value is  7.958661109946391e-07\n",
            "The 32 iteration：x value is  4.775196665967835e-07\n",
            " local minimum  x = 4.775196665967835e-07\n"
          ]
        }
      ]
    }
  ]
}
{
  "nbformat": 4,
  "nbformat_minor": 0,
  "metadata": {
    "colab": {
      "name": "homework6.ipynb",
      "provenance": [],
      "authorship_tag": "ABX9TyNXz7qTrrTkas9CoNslmOeD",
      "include_colab_link": true
    },
    "kernelspec": {
      "name": "python3",
      "display_name": "Python 3"
    },
    "language_info": {
      "name": "python"
    }
  },
  "cells": [
    {
      "cell_type": "markdown",
      "metadata": {
        "id": "view-in-github",
        "colab_type": "text"
      },
      "source": [
        "<a href=\"https://colab.research.google.com/github/ZiChengHao/Mat-494/blob/main/homework6.ipynb\" target=\"_parent\"><img src=\"https://colab.research.google.com/assets/colab-badge.svg\" alt=\"Open In Colab\"/></a>"
      ]
    },
    {
      "cell_type": "markdown",
      "metadata": {
        "id": "f6-1eaAlcEzM"
      },
      "source": [
        "3.4 Logistic Regression\n",
        "\n",
        "**1. Breast cancer dataset**"
      ]
    },
    {
      "cell_type": "code",
      "metadata": {
        "colab": {
          "base_uri": "https://localhost:8080/"
        },
        "id": "fMqzXiANb6hR",
        "outputId": "f15133ca-c5ad-4afa-e5de-d5595f82ddef"
      },
      "source": [
        "from sklearn.linear_model import LogisticRegression as LR\n",
        "from sklearn.datasets import load_breast_cancer\n",
        "from sklearn.datasets import load_iris\n",
        "import numpy as np\n",
        "import matplotlib.pyplot as plt\n",
        "from sklearn.model_selection import train_test_split\n",
        "from sklearn.metrics import accuracy_score\n",
        " \n",
        "# breast cancer dataset    \n",
        "data = load_breast_cancer()\n",
        "X = data.data\n",
        "y = data.target\n",
        "X.data.shape"
      ],
      "execution_count": 1,
      "outputs": [
        {
          "output_type": "execute_result",
          "data": {
            "text/plain": [
              "(569, 30)"
            ]
          },
          "metadata": {},
          "execution_count": 1
        }
      ]
    },
    {
      "cell_type": "code",
      "metadata": {
        "colab": {
          "base_uri": "https://localhost:8080/"
        },
        "id": "w80h5AcbcMin",
        "outputId": "0a7e549e-304d-4cea-fdf4-f8de8ce1e437"
      },
      "source": [
        "lrl1 = LR(penalty=\"l1\",solver=\"liblinear\",C=0.5,max_iter=1000)\n",
        "lrl1 = lrl1.fit(X,y)\n",
        "lrl1.coef_\n",
        "\n",
        "(lrl1.coef_ != 0).sum(axis=1)#array([10])  \n",
        "\n",
        "lrl2 = LR(penalty=\"l2\",solver=\"liblinear\",C=0.5,max_iter=1000)\n",
        "lrl2 = lrl2.fit(X,y)\n",
        "lrl2.coef_"
      ],
      "execution_count": 2,
      "outputs": [
        {
          "output_type": "execute_result",
          "data": {
            "text/plain": [
              "array([[ 1.61331113e+00,  1.00124605e-01,  4.60084834e-02,\n",
              "        -4.19839432e-03, -9.26228937e-02, -3.00484301e-01,\n",
              "        -4.53250190e-01, -2.19778015e-01, -1.33074668e-01,\n",
              "        -1.92576286e-02,  1.89635811e-02,  8.74998561e-01,\n",
              "         1.32421950e-01, -9.53784314e-02, -9.62972408e-03,\n",
              "        -2.53596204e-02, -5.83890299e-02, -2.67755115e-02,\n",
              "        -2.73846616e-02, -8.05302929e-05,  1.28529688e+00,\n",
              "        -3.00088054e-01, -1.74310770e-01, -2.23545072e-02,\n",
              "        -1.70267493e-01, -8.77272211e-01, -1.15830085e+00,\n",
              "        -4.22526360e-01, -4.12406225e-01, -8.66393364e-02]])"
            ]
          },
          "metadata": {},
          "execution_count": 2
        }
      ]
    }
  ]
}
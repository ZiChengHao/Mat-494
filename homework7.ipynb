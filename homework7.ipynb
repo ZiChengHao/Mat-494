{
  "nbformat": 4,
  "nbformat_minor": 0,
  "metadata": {
    "colab": {
      "name": "homework7.ipynb",
      "provenance": [],
      "authorship_tag": "ABX9TyMumpVUlhGFjLtfemzaIexr",
      "include_colab_link": true
    },
    "kernelspec": {
      "name": "python3",
      "display_name": "Python 3"
    },
    "language_info": {
      "name": "python"
    }
  },
  "cells": [
    {
      "cell_type": "markdown",
      "metadata": {
        "id": "view-in-github",
        "colab_type": "text"
      },
      "source": [
        "<a href=\"https://colab.research.google.com/github/ZiChengHao/Mat-494/blob/main/homework7.ipynb\" target=\"_parent\"><img src=\"https://colab.research.google.com/assets/colab-badge.svg\" alt=\"Open In Colab\"/></a>"
      ]
    },
    {
      "cell_type": "markdown",
      "metadata": {
        "id": "vIapHqQ82vpV"
      },
      "source": [
        "4.2 Spectral Clustering"
      ]
    },
    {
      "cell_type": "code",
      "metadata": {
        "id": "PLL2lil32gwl"
      },
      "source": [
        "# import libraries\n",
        "import numpy as np\n",
        "import scipy\n",
        "import pandas as pd\n",
        "from itertools import cycle\n",
        "import matplotlib.pyplot as plt\n",
        "\n",
        "from sklearn.cluster import KMeans\n",
        "from sklearn.datasets.samples_generator import make_blobs\n",
        "from sklearn.cluster import SpectralClustering\n",
        "from sklearn.preprocessing import StandardScaler, normalize\n",
        "from sklearn.decomposition import PCA\n",
        "from sklearn.metrics import silhouette_score\n",
        "from sklearn import metrics"
      ],
      "execution_count": null,
      "outputs": []
    },
    {
      "cell_type": "markdown",
      "metadata": {
        "id": "MfdOiyRk2zsH"
      },
      "source": [
        "1. From Laplacian to Clustering"
      ]
    },
    {
      "cell_type": "code",
      "metadata": {
        "id": "kwqnCjny22kd"
      },
      "source": [
        "# Computes the symetric normalized laplacian\n",
        "# L = D^{-1/2} A D{-1/2}\n",
        "def laplacian(A):\n",
        "    D = numpy.zeros(A.shape)\n",
        "    w = numpy.sum(A, axis=0)\n",
        "    D.flat[::len(w) + 1] = w ** (-0.5)  # set the diag of D to w\n",
        "    return D.dot(A).dot(D)\n",
        "\n",
        "def k_means(X, n_clusters):\n",
        "    kmeans = KMeans(n_clusters=n_clusters, random_state=1231)\n",
        "    return kmeans.fit(X).labels_\n",
        "\n",
        "def spectral_clustering(affinity, n_clusters, cluster_method=k_means):\n",
        "    L = laplacian(affinity)\n",
        "    eig_val, eig_vect = scipy.sparse.linalg.eigs(L, n_clusters)\n",
        "    X = eig_vect.real\n",
        "    rows_norm = numpy.linalg.norm(X, axis=1, ord=2)\n",
        "    Y = (X.T / rows_norm).T\n",
        "    labels = cluster_method(Y, n_clusters)\n",
        "    return labels"
      ],
      "execution_count": null,
      "outputs": []
    },
    {
      "cell_type": "markdown",
      "metadata": {
        "id": "ikcTN8wO2364"
      },
      "source": [
        "2. Use sklearn Functions¶"
      ]
    },
    {
      "cell_type": "code",
      "metadata": {
        "id": "LKQxP_sK256d"
      },
      "source": [
        "# Center for generating random data.\n",
        "centers = [[1, 1], [-1, -1], [1, -1]]\n",
        "\n",
        "# The number of data generated.\n",
        "n_samples=3000\n",
        "\n",
        "# Generate data.\n",
        "X, lables_true = make_blobs(n_samples=n_samples, centers= centers, cluster_std=0.6, \n",
        "                  random_state =0)\n",
        " \n",
        "# Transform to a matrix, the input has to be symmetric.\n",
        "metrics_metrix = (-1 * metrics.pairwise.pairwise_distances(X)).astype(np.int32)\n",
        "metrics_metrix += -1 * metrics_metrix.min()\n",
        "\n",
        "# Set spectral clustering function.\n",
        "n_clusters_= 4\n",
        "lables = spectral_clustering(metrics_metrix,n_clusters=n_clusters_)\n",
        "\n",
        "# Visualization of results\n",
        "plt.figure(1)\n",
        "plt.clf()\n",
        "colors = cycle('bgrcmykbgrcmykbgrcmykbgrcmyk')\n",
        "for k, col in zip(range(n_clusters_), colors):\n",
        "    # Reassembles an array of True and False based on whether the values in lables are equal to k.\n",
        "    my_members = lables == k\n",
        "    plt.plot(X[my_members, 0], X[my_members, 1], col + '.')\n",
        "    \n",
        "plt.title('Estimated number of clusters: %d' % n_clusters_)\n",
        "plt.show()"
      ],
      "execution_count": null,
      "outputs": []
    }
  ]
}
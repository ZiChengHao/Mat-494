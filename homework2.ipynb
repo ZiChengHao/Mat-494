{
  "nbformat": 4,
  "nbformat_minor": 0,
  "metadata": {
    "colab": {
      "name": "homework2.ipynb",
      "provenance": [],
      "collapsed_sections": [],
      "toc_visible": true,
      "authorship_tag": "ABX9TyM90VeqEmi4XkvrIgc8y/LU",
      "include_colab_link": true
    },
    "kernelspec": {
      "name": "python3",
      "display_name": "Python 3"
    },
    "language_info": {
      "name": "python"
    }
  },
  "cells": [
    {
      "cell_type": "markdown",
      "metadata": {
        "id": "view-in-github",
        "colab_type": "text"
      },
      "source": [
        "<a href=\"https://colab.research.google.com/github/ZiChengHao/Mat-494/blob/main/homework2.ipynb\" target=\"_parent\"><img src=\"https://colab.research.google.com/assets/colab-badge.svg\" alt=\"Open In Colab\"/></a>"
      ]
    },
    {
      "cell_type": "markdown",
      "metadata": {
        "id": "XbK3278nqGhV"
      },
      "source": [
        "1 NumPy data structure\n",
        "\n",
        "1.1 NumPy vector or 1-D array"
      ]
    },
    {
      "cell_type": "code",
      "metadata": {
        "colab": {
          "base_uri": "https://localhost:8080/"
        },
        "id": "MLMk7FYZqCel",
        "outputId": "05e9bb1c-33d2-4035-ec74-f747292921db"
      },
      "source": [
        "import numpy as np\n",
        "a = np.arange(10)\n",
        "print(a)"
      ],
      "execution_count": null,
      "outputs": [
        {
          "output_type": "stream",
          "name": "stdout",
          "text": [
            "[0 1 2 3 4 5 6 7 8 9]\n"
          ]
        }
      ]
    },
    {
      "cell_type": "code",
      "metadata": {
        "colab": {
          "base_uri": "https://localhost:8080/"
        },
        "id": "zbBfxT6aqLy7",
        "outputId": "81553984-09ef-4886-b6df-48b4c8b4c55f"
      },
      "source": [
        "a = np.zeros(10)\n",
        "b = np.ones(10)\n",
        "c = np.zeros(10) + 5\n",
        "print(a)\n",
        "print(b)\n",
        "print(c)"
      ],
      "execution_count": null,
      "outputs": [
        {
          "output_type": "stream",
          "name": "stdout",
          "text": [
            "[0. 0. 0. 0. 0. 0. 0. 0. 0. 0.]\n",
            "[1. 1. 1. 1. 1. 1. 1. 1. 1. 1.]\n",
            "[5. 5. 5. 5. 5. 5. 5. 5. 5. 5.]\n"
          ]
        }
      ]
    },
    {
      "cell_type": "code",
      "metadata": {
        "colab": {
          "base_uri": "https://localhost:8080/"
        },
        "id": "EPrTWhliqQeS",
        "outputId": "9bee2978-527d-4b43-8ca7-abc89f4f6598"
      },
      "source": [
        "# use random numbers to populate an array\n",
        "a = np.random.rand(10)\n",
        "print(a)"
      ],
      "execution_count": null,
      "outputs": [
        {
          "output_type": "stream",
          "name": "stdout",
          "text": [
            "[0.51901339 0.24373449 0.87568703 0.18238267 0.3570539  0.5536122\n",
            " 0.6079988  0.12521309 0.78680925 0.90774738]\n"
          ]
        }
      ]
    },
    {
      "cell_type": "code",
      "metadata": {
        "colab": {
          "base_uri": "https://localhost:8080/"
        },
        "id": "oyHSGL4xqSNt",
        "outputId": "7d0a55a4-d6e1-46ce-f862-f63266390b10"
      },
      "source": [
        "# index\n",
        "a = np.arange(10)\n",
        "print(a)\n",
        "print(a[-1])\n",
        "print(a[1:3])\n",
        "print(a[1:5:2])"
      ],
      "execution_count": null,
      "outputs": [
        {
          "output_type": "stream",
          "name": "stdout",
          "text": [
            "[0 1 2 3 4 5 6 7 8 9]\n",
            "9\n",
            "[1 2]\n",
            "[1 3]\n"
          ]
        }
      ]
    },
    {
      "cell_type": "markdown",
      "metadata": {
        "id": "odLp6VoethLO"
      },
      "source": [
        "1.2 Numpy Array\n"
      ]
    },
    {
      "cell_type": "code",
      "metadata": {
        "id": "RNsaeQ4otnOC",
        "colab": {
          "base_uri": "https://localhost:8080/"
        },
        "outputId": "4b4e32f4-060c-4f58-856a-58dcc027905f"
      },
      "source": [
        "a = np.zeros((3, 5))\n",
        "# note the extra bracket you need for calling np.zeros\n",
        "print(a, '\\n')\n",
        "\n",
        "# shape of the array\n",
        "print('len =',len(a))\n",
        "print('shape =',a.shape)"
      ],
      "execution_count": null,
      "outputs": [
        {
          "output_type": "stream",
          "name": "stdout",
          "text": [
            "[[0. 0. 0. 0. 0.]\n",
            " [0. 0. 0. 0. 0.]\n",
            " [0. 0. 0. 0. 0.]] \n",
            "\n",
            "len = 3\n",
            "shape = (3, 5)\n"
          ]
        }
      ]
    },
    {
      "cell_type": "code",
      "metadata": {
        "id": "TVCiKRNcttbV",
        "colab": {
          "base_uri": "https://localhost:8080/"
        },
        "outputId": "0913ef76-773d-40f8-c4ab-f0101c8d038f"
      },
      "source": [
        "a = np.zeros((3,5))\n",
        "nx,ny = a.shape\n",
        "print('nx =', nx)\n",
        "print('ny =', ny)"
      ],
      "execution_count": null,
      "outputs": [
        {
          "output_type": "stream",
          "name": "stdout",
          "text": [
            "nx = 3\n",
            "ny = 5\n"
          ]
        }
      ]
    },
    {
      "cell_type": "code",
      "metadata": {
        "id": "aGUntVYhtvlB",
        "colab": {
          "base_uri": "https://localhost:8080/"
        },
        "outputId": "a4e049e3-a947-4bbb-fe9e-aeae375c35b7"
      },
      "source": [
        "a = np.zeros((3,5)) + 7\n",
        "print(a, '\\n')\n",
        "\n",
        "b = np.ones((3,5)) * 7\n",
        "print(b, '\\n')\n",
        "\n",
        "c = np.full((3,5), 7)\n",
        "print(c)"
      ],
      "execution_count": null,
      "outputs": [
        {
          "output_type": "stream",
          "name": "stdout",
          "text": [
            "[[7. 7. 7. 7. 7.]\n",
            " [7. 7. 7. 7. 7.]\n",
            " [7. 7. 7. 7. 7.]] \n",
            "\n",
            "[[7. 7. 7. 7. 7.]\n",
            " [7. 7. 7. 7. 7.]\n",
            " [7. 7. 7. 7. 7.]] \n",
            "\n",
            "[[7 7 7 7 7]\n",
            " [7 7 7 7 7]\n",
            " [7 7 7 7 7]]\n"
          ]
        }
      ]
    },
    {
      "cell_type": "code",
      "metadata": {
        "id": "BjZyNfqDtxNB",
        "colab": {
          "base_uri": "https://localhost:8080/"
        },
        "outputId": "c9f4c7de-ad73-41ad-cd05-130db63ccc82"
      },
      "source": [
        "a = np.eye(5)\n",
        "print(a)"
      ],
      "execution_count": null,
      "outputs": [
        {
          "output_type": "stream",
          "name": "stdout",
          "text": [
            "[[1. 0. 0. 0. 0.]\n",
            " [0. 1. 0. 0. 0.]\n",
            " [0. 0. 1. 0. 0.]\n",
            " [0. 0. 0. 1. 0.]\n",
            " [0. 0. 0. 0. 1.]]\n"
          ]
        }
      ]
    },
    {
      "cell_type": "code",
      "metadata": {
        "id": "Vl_RUz2ztyt6",
        "colab": {
          "base_uri": "https://localhost:8080/"
        },
        "outputId": "fec04833-52ab-4ba7-c0bd-ea2a8c57cc2c"
      },
      "source": [
        "a = np.array(([1,2], [3,4], [5,6]))\n",
        "print(a)"
      ],
      "execution_count": null,
      "outputs": [
        {
          "output_type": "stream",
          "name": "stdout",
          "text": [
            "[[1 2]\n",
            " [3 4]\n",
            " [5 6]]\n"
          ]
        }
      ]
    },
    {
      "cell_type": "code",
      "metadata": {
        "id": "iuTkP4GFt0L-",
        "colab": {
          "base_uri": "https://localhost:8080/"
        },
        "outputId": "62b3061d-e3b5-42d6-8b6b-7e62398b7787"
      },
      "source": [
        "a = np.array([[1,2,3,4], [5,6,7,8], [9,10,11,12]])\n",
        "print(a)\n",
        "b = a[:2, 1:3]\n",
        "print(b)"
      ],
      "execution_count": null,
      "outputs": [
        {
          "output_type": "stream",
          "name": "stdout",
          "text": [
            "[[ 1  2  3  4]\n",
            " [ 5  6  7  8]\n",
            " [ 9 10 11 12]]\n",
            "[[2 3]\n",
            " [6 7]]\n"
          ]
        }
      ]
    },
    {
      "cell_type": "code",
      "metadata": {
        "id": "xoEFNd4Vt1o4",
        "colab": {
          "base_uri": "https://localhost:8080/"
        },
        "outputId": "fc5af78c-7353-4098-b77d-77e0815e3405"
      },
      "source": [
        "a = np.array([[1,2,3,4], [5,6,7,8], [9,10,11,12]])\n",
        "print(a)\n",
        "b = a[1, :]\n",
        "print(b)"
      ],
      "execution_count": null,
      "outputs": [
        {
          "output_type": "stream",
          "name": "stdout",
          "text": [
            "[[ 1  2  3  4]\n",
            " [ 5  6  7  8]\n",
            " [ 9 10 11 12]]\n",
            "[5 6 7 8]\n"
          ]
        }
      ]
    },
    {
      "cell_type": "code",
      "metadata": {
        "id": "QxkFgn1-t3DF",
        "colab": {
          "base_uri": "https://localhost:8080/"
        },
        "outputId": "7794718c-7ca1-4927-e756-faae583b6216"
      },
      "source": [
        "a = np.array([[1,2,3,4], [5,6,7,8], [9,10,11,12]])\n",
        "print(a, '\\n')\n",
        "print(a[[0,1,2],[2,1,2]])"
      ],
      "execution_count": null,
      "outputs": [
        {
          "output_type": "stream",
          "name": "stdout",
          "text": [
            "[[ 1  2  3  4]\n",
            " [ 5  6  7  8]\n",
            " [ 9 10 11 12]] \n",
            "\n",
            "[ 3  6 11]\n"
          ]
        }
      ]
    },
    {
      "cell_type": "code",
      "metadata": {
        "id": "0fHnIL-at4ot",
        "colab": {
          "base_uri": "https://localhost:8080/"
        },
        "outputId": "3e789e97-af54-4f37-a863-f583e8a372e2"
      },
      "source": [
        "a = np.zeros((3,3))\n",
        "for i in range(3):\n",
        "    a[:,i] = i\n",
        "print('before\\n',a)\n",
        "\n",
        "a[1,:] += 10\n",
        "print('after\\n',a)"
      ],
      "execution_count": null,
      "outputs": [
        {
          "output_type": "stream",
          "name": "stdout",
          "text": [
            "before\n",
            " [[0. 1. 2.]\n",
            " [0. 1. 2.]\n",
            " [0. 1. 2.]]\n",
            "after\n",
            " [[ 0.  1.  2.]\n",
            " [10. 11. 12.]\n",
            " [ 0.  1.  2.]]\n"
          ]
        }
      ]
    },
    {
      "cell_type": "code",
      "metadata": {
        "id": "tR4wQFEut6B7",
        "colab": {
          "base_uri": "https://localhost:8080/"
        },
        "outputId": "3556246a-75d3-4c71-86c0-12b808921049"
      },
      "source": [
        "a = np.zeros((3,3))\n",
        "for i in range(3):\n",
        "    a[:,i] = i\n",
        "print('before\\n',a)\n",
        "\n",
        "a[:,2] = 5.\n",
        "print('after\\n',a)"
      ],
      "execution_count": null,
      "outputs": [
        {
          "output_type": "stream",
          "name": "stdout",
          "text": [
            "before\n",
            " [[0. 1. 2.]\n",
            " [0. 1. 2.]\n",
            " [0. 1. 2.]]\n",
            "after\n",
            " [[0. 1. 5.]\n",
            " [0. 1. 5.]\n",
            " [0. 1. 5.]]\n"
          ]
        }
      ]
    },
    {
      "cell_type": "code",
      "metadata": {
        "id": "jBUXeFUYt7PU",
        "colab": {
          "base_uri": "https://localhost:8080/"
        },
        "outputId": "71de4825-4d27-4e81-f57e-f9fc106ccb17"
      },
      "source": [
        "a=np.array(([1,1],[1,1]))\n",
        "print(a)\n",
        "print(a.dtype)"
      ],
      "execution_count": null,
      "outputs": [
        {
          "output_type": "stream",
          "name": "stdout",
          "text": [
            "[[1 1]\n",
            " [1 1]]\n",
            "int64\n"
          ]
        }
      ]
    },
    {
      "cell_type": "code",
      "metadata": {
        "id": "slxHaGHBt8n7",
        "colab": {
          "base_uri": "https://localhost:8080/"
        },
        "outputId": "45a9a636-0240-4885-b556-716910d03912"
      },
      "source": [
        "a=np.array(([1.,1],[1,1]))\n",
        "print(a)\n",
        "print(a.dtype)"
      ],
      "execution_count": null,
      "outputs": [
        {
          "output_type": "stream",
          "name": "stdout",
          "text": [
            "[[1. 1.]\n",
            " [1. 1.]]\n",
            "float64\n"
          ]
        }
      ]
    },
    {
      "cell_type": "code",
      "metadata": {
        "id": "vuQC77ggt90f",
        "colab": {
          "base_uri": "https://localhost:8080/"
        },
        "outputId": "aa5b9c3f-eba4-49e9-d76d-3fd663d32c3e"
      },
      "source": [
        "a=np.array(([1.,1],[1,1]))>2\n",
        "print(a)\n",
        "print(a.dtype)"
      ],
      "execution_count": null,
      "outputs": [
        {
          "output_type": "stream",
          "name": "stdout",
          "text": [
            "[[False False]\n",
            " [False False]]\n",
            "bool\n"
          ]
        }
      ]
    },
    {
      "cell_type": "code",
      "metadata": {
        "id": "T4b3cdsct_Mj",
        "colab": {
          "base_uri": "https://localhost:8080/"
        },
        "outputId": "dee403b3-c97e-4db0-c89d-27cdc0d37ef1"
      },
      "source": [
        "a=np.array((['1','1'],['1','1']))\n",
        "print(a)\n",
        "print(a.dtype)"
      ],
      "execution_count": null,
      "outputs": [
        {
          "output_type": "stream",
          "name": "stdout",
          "text": [
            "[['1' '1']\n",
            " ['1' '1']]\n",
            "<U1\n"
          ]
        }
      ]
    },
    {
      "cell_type": "code",
      "metadata": {
        "id": "78JJeuuVuAe1",
        "colab": {
          "base_uri": "https://localhost:8080/"
        },
        "outputId": "614c150c-5ad6-4905-b273-f0f94ec5726b"
      },
      "source": [
        "a=np.array((['1','1'],['1','1']),dtype=float)\n",
        "print(a)\n",
        "print(a.dtype)"
      ],
      "execution_count": null,
      "outputs": [
        {
          "output_type": "stream",
          "name": "stdout",
          "text": [
            "[[1. 1.]\n",
            " [1. 1.]]\n",
            "float64\n"
          ]
        }
      ]
    }
  ]
}
{
  "nbformat": 4,
  "nbformat_minor": 0,
  "metadata": {
    "colab": {
      "name": "homework4.ipynb",
      "provenance": [],
      "authorship_tag": "ABX9TyO6a1Cw7OXY8iZfBDqKZqht",
      "include_colab_link": true
    },
    "kernelspec": {
      "name": "python3",
      "display_name": "Python 3"
    },
    "language_info": {
      "name": "python"
    }
  },
  "cells": [
    {
      "cell_type": "markdown",
      "metadata": {
        "id": "view-in-github",
        "colab_type": "text"
      },
      "source": [
        "<a href=\"https://colab.research.google.com/github/ZiChengHao/Mat-494/blob/main/homework4.ipynb\" target=\"_parent\"><img src=\"https://colab.research.google.com/assets/colab-badge.svg\" alt=\"Open In Colab\"/></a>"
      ]
    },
    {
      "cell_type": "markdown",
      "metadata": {
        "id": "DpsMJHRW518Q"
      },
      "source": [
        "Calculate limits using Sympy"
      ]
    },
    {
      "cell_type": "code",
      "metadata": {
        "colab": {
          "base_uri": "https://localhost:8080/"
        },
        "id": "qIoiGYsE6WqF",
        "outputId": "b5efeb20-1f2a-4c80-e771-e9b7403223b5"
      },
      "source": [
        "# import library\n",
        "import sympy as sym\n",
        "\n",
        "# pythonic math expressions: add spaces, use single quotes and lowercases\n",
        "# declaring variables\n",
        "x, y, z, a, b, c = sym.symbols('x, y, z, a, b, c')\n",
        "\n",
        "f = sym.sin(x) / x\n",
        "print(sym.limit(f, x, 0))\n",
        "\n",
        "n = sym.symbols('n')\n",
        "print(sym.limit(((n + 3) / (n + 2)) ** n, n, sym.oo)) # oo is mathematical infinity"
      ],
      "execution_count": 9,
      "outputs": [
        {
          "output_type": "stream",
          "name": "stdout",
          "text": [
            "1\n",
            "E\n"
          ]
        }
      ]
    },
    {
      "cell_type": "markdown",
      "metadata": {
        "id": "ljptTwVm6jq0"
      },
      "source": [
        "Calculate derivatives"
      ]
    },
    {
      "cell_type": "code",
      "metadata": {
        "colab": {
          "base_uri": "https://localhost:8080/"
        },
        "id": "J81HKXxz6lBV",
        "outputId": "ba89a000-2281-4eef-a019-f6b82244b585"
      },
      "source": [
        "# declaring variables\n",
        "x, y, z, a, b, c = sym.symbols('x, y, z, a, b, c')\n",
        "\n",
        "# we take the derivative using diff\n",
        "# diff (function, independent variable, number of derivatives)\n",
        "\n",
        "exp1 = sym.diff(sym.sin(2 * x), x) \n",
        "print('1st derivative w.r.t x: ', exp1) \n",
        "\n",
        "exp2 = sym.diff(sym.sin(2*x), x, 2) \n",
        "print('2nd derivative w.r.t x: ', exp2) \n",
        "\n",
        "exp3 = sym.diff(sym.sin(2*x), x, 3)\n",
        "print('3rd derivative w.r.t x: ', exp3) \n",
        "\n",
        "exp4 = sym.diff(sym.sin(x*y), x, 2, y, 3) \n",
        "print('\\n', exp4)"
      ],
      "execution_count": 10,
      "outputs": [
        {
          "output_type": "stream",
          "name": "stdout",
          "text": [
            "1st derivative w.r.t x:  2*cos(2*x)\n",
            "2nd derivative w.r.t x:  -4*sin(2*x)\n",
            "3rd derivative w.r.t x:  -8*cos(2*x)\n",
            "\n",
            " x*(x**2*y**2*cos(x*y) + 6*x*y*sin(x*y) - 6*cos(x*y))\n"
          ]
        }
      ]
    },
    {
      "cell_type": "code",
      "metadata": {
        "colab": {
          "base_uri": "https://localhost:8080/",
          "height": 38
        },
        "id": "jZ1EKHcy6ncZ",
        "outputId": "b4456e08-0b46-4afe-8269-faca95c7f638"
      },
      "source": [
        "# notice the difference of the output format\n",
        "sym.diff(sym.exp(-x) * sym.cos(3 - x))"
      ],
      "execution_count": 11,
      "outputs": [
        {
          "output_type": "execute_result",
          "data": {
            "text/latex": "$\\displaystyle - e^{- x} \\sin{\\left(x - 3 \\right)} - e^{- x} \\cos{\\left(x - 3 \\right)}$",
            "text/plain": [
              "-exp(-x)*sin(x - 3) - exp(-x)*cos(x - 3)"
            ]
          },
          "metadata": {},
          "execution_count": 11
        }
      ]
    }
  ]
}